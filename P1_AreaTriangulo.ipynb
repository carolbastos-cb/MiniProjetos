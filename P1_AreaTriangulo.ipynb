{
 "cells": [
  {
   "cell_type": "markdown",
   "metadata": {},
   "source": [
    "#  ÁREA DE UM TRIÂNGULO\n",
    "\n",
    "Nosso objetivo é fazer um programa que receba 3 valores que representem lados de um triângulo e, então, responda qual\n",
    "a área deste triângulo.\n",
    "\n",
    "Você pode calcular a área de um triângulo a partir da medida de seus lados utilizando a [Fórmula de Heron](https://pt.wikipedia.org/wiki/).\n",
    "Você pode calcular a raiz quadrada de um número elevando ele a 1/2 (meio) — lembre-se que em Python a potenciação pode ser feita com o\n",
    "operador.\n",
    "\n",
    "Ex: 4**(1/2) resulta em 2.0.\n",
    "\n",
    "Repare que não é qualquer combinação de 3 valores que pode representar lados de um triângulo, pois, é necesário respeitar a [condição de existência de um triângulo](https://mundoeducacao.uol.com.br/matematica/condicao-existencia-um-triangulo.htm). Caso os números recebidos não possam ser usados como lados de um triângulo, seu programa deve informar isso ao usuário."
   ]
  },
  {
   "cell_type": "code",
   "execution_count": 1,
   "metadata": {},
   "outputs": [
    {
     "name": "stdout",
     "output_type": "stream",
     "text": [
      "A área do triângulo de lados 25, 24 e 3 é igual a 34.583232931581165.\n"
     ]
    }
   ],
   "source": [
    "# entrada de dados - valores para os lados do triângulo\n",
    "entrada = input('Digite os valores de cada lado do triangulo separado por vírgula:')\n",
    "\n",
    "# atribui cada valor a uma variável\n",
    "a, b, c = entrada.split(\",\")\n",
    "\n",
    "# casting de string para int\n",
    "a = int(a)\n",
    "b = int(b)\n",
    "c = int(c)\n",
    "\n",
    "\n",
    "# CONDICAO DE EXISTENCIA DO TRIANGULO\n",
    "# um de seus lados deve ser maior que o valor absoluto (módulo) da diferença dos outros dois lados e menor\n",
    "# que a soma dos outros dois lados\n",
    "\n",
    "# FÓRMULA DE HERON\n",
    "# area = raiz quadrada da multiplicação do semiperimetro pelas diferenças do semiperimetro e cada um dos lados\n",
    "\n",
    "# função para verificar a condição de existância de um triângulo\n",
    "def validar_triangulo(a, b, c):\n",
    "    if (abs(b) - abs(c)) < a < (b + c) or (abs(a) - abs(c)) < b < (a + c) or (abs(b) - abs(a)) < c < (b + a):\n",
    "        return True\n",
    "    else:\n",
    "        return False\n",
    "\n",
    "\n",
    "# calculando a área do triângulo de lados a,,b,c\n",
    "if validar_triangulo(a, b, c):\n",
    "    sp = (a + b + c) / 2\n",
    "    area = (sp * (sp - a) * (sp - b) * (sp - c)) ** 0.5\n",
    "    print(f\"A área do triângulo de lados {a}, {b} e {c} é igual a {area}.\")\n",
    "else:\n",
    "    print(\"Com esses valores não temos um triângulo.\")\n"
   ]
  }
 ],
 "metadata": {
  "interpreter": {
   "hash": "7baba135f0c3cd71e7b6d3ab435297032eab02e14b698e17a1d0198f4f392094"
  },
  "kernelspec": {
   "display_name": "Python 3.10.4 ('Desktop')",
   "language": "python",
   "name": "python3"
  },
  "language_info": {
   "codemirror_mode": {
    "name": "ipython",
    "version": 3
   },
   "file_extension": ".py",
   "mimetype": "text/x-python",
   "name": "python",
   "nbconvert_exporter": "python",
   "pygments_lexer": "ipython3",
   "version": "3.10.4"
  },
  "orig_nbformat": 4
 },
 "nbformat": 4,
 "nbformat_minor": 2
}
