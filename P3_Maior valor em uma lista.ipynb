{
 "cells": [
  {
   "cell_type": "markdown",
   "metadata": {},
   "source": [
    "# Encontrar o maior valor em uma lista"
   ]
  },
  {
   "cell_type": "code",
   "execution_count": 1,
   "metadata": {},
   "outputs": [
    {
     "name": "stdout",
     "output_type": "stream",
     "text": [
      "O maior valor encontrado na lista é o número 30 e ele ocupa o índice 5.\n"
     ]
    }
   ],
   "source": [
    "# encontrar o maior valor de uma lista\n",
    "# solução 1\n",
    "\n",
    "# lista\n",
    "numeros = [7, 3, 9, 1, 2, 30, 6]\n",
    "\n",
    "# definir um variável para guardar o maior valor e comparar os demais valores com esse valor\n",
    "num = numeros[0]\n",
    "\n",
    "# definir um variável para guardar o índice\n",
    "i_num = 0\n",
    "\n",
    "# iterar sobre os valores da lista\n",
    "# nesse caso acessamos direto os valores da lista e precisamos da função index para descobrir o índice de cada elemento\n",
    "for i in numeros: # para cada valor da lista\n",
    "    if i > num: # se o valor da atual da lista for maior que o valor de num\n",
    "        num = i # atualizar o valor de num com o valor atual da lista\n",
    "        i_num = numeros.index(i) # atualizar o valor do índice com o índice atual da lista\n",
    "\n",
    "print(f'O maior valor encontrado na lista é o número {num} e ele ocupa o índice {i_num}.')"
   ]
  },
  {
   "cell_type": "code",
   "execution_count": 2,
   "metadata": {},
   "outputs": [
    {
     "name": "stdout",
     "output_type": "stream",
     "text": [
      "O maior valor encontrado na lista é o número 30 e ele ocupa o índice 5.\n"
     ]
    }
   ],
   "source": [
    "# encontrar o maior valor de uma lista \n",
    "# solução 2\n",
    "\n",
    "# lista\n",
    "numeros = [7, 3, 9, 1, 2, 30, 6]\n",
    "\n",
    "# definir um variável para guardar o maior valor e comparar os demais valores com esse valor\n",
    "num = numeros[0]\n",
    "\n",
    "# definir um variável para guardar o índice\n",
    "i_num = 0\n",
    "\n",
    "# iterar sobre o comprimento da lista utilizando a função RANGE e LEN como auxiliares\n",
    "# nesse caso é preciso acessar os elementos da lista através do índice\n",
    "for _ in range(len(numeros)): # para cada índice da lista\n",
    "    if numeros[_] > num: # se o valor do índice atual da lista for maior que o valor de num\n",
    "        num = numeros[_] # atualizar o valor de num com o valor atual da lista\n",
    "        i_num = _ # atualizar o valor do índice com o índice atual da lista\n",
    "\n",
    "print(f'O maior valor encontrado na lista é o número {num} e ele ocupa o índice {i_num}.')"
   ]
  },
  {
   "cell_type": "code",
   "execution_count": 3,
   "metadata": {},
   "outputs": [
    {
     "name": "stdout",
     "output_type": "stream",
     "text": [
      "O maior valor da lista é 300 e está no índice 4.\n"
     ]
    }
   ],
   "source": [
    "# encontrar o maior valor de uma lista \n",
    "# solução 3 - usando 2 for loops\n",
    "\n",
    "lista = [7, 3, 10, 20, 300, 90, 45, 60]\n",
    "\n",
    "\n",
    "for i in range(len(lista)):\n",
    "    count = 0\n",
    "    for elem in lista:\n",
    "        if elem > lista[i]:\n",
    "            break\n",
    "        else:\n",
    "            count += 1\n",
    "        if count == len(lista):\n",
    "            print(f'O maior valor da lista é {lista[i]} e está no índice {i}.')\n",
    "\n"
   ]
  },
  {
   "cell_type": "code",
   "execution_count": 4,
   "metadata": {},
   "outputs": [
    {
     "name": "stdout",
     "output_type": "stream",
     "text": [
      "O maior valor encontrado na lista é o número 45 e ele ocupa o índice 6.\n"
     ]
    }
   ],
   "source": [
    "# encontrar o maior valor de uma lista \n",
    "# solução Hallison - usando 2 for loops\n",
    "\n",
    "def maior_elemento(lista):\n",
    "    for i in range(len(lista)):\n",
    "    # assumimos que o elemento da vez [i] é o maior\n",
    "        eh_maior = True\n",
    "        # vamos compará-lo com todos os elementos da lista\n",
    "        for elem in lista:\n",
    "            # se ele for menor que alguém, não pode ser o maior\n",
    "            if lista[i] < elem:\n",
    "                eh_maior = False\n",
    "                # não precisamos continuar a comparação com este, já sabemos que não é o maior\n",
    "                break\n",
    "        # se ele não é menor que ninguém, então eh_maior é \"True\"\n",
    "        if eh_maior:\n",
    "            return lista[i], i\n",
    "\n",
    "    \n",
    "    \n",
    "numeros = [7, 3, 1, 2, 3, 9, 45, 6]\n",
    "maior, indice = maior_elemento(numeros)\n",
    "print(f'O maior valor encontrado na lista é o número {maior} e ele ocupa o índice {indice}.')"
   ]
  }
 ],
 "metadata": {
  "interpreter": {
   "hash": "7e1998ff7f8aa20ada591c520b972326324e5ea05489af9e422744c7c09f6dad"
  },
  "kernelspec": {
   "display_name": "Python 3 (ipykernel)",
   "language": "python",
   "name": "python3"
  },
  "language_info": {
   "codemirror_mode": {
    "name": "ipython",
    "version": 3
   },
   "file_extension": ".py",
   "mimetype": "text/x-python",
   "name": "python",
   "nbconvert_exporter": "python",
   "pygments_lexer": "ipython3",
   "version": "3.10.4"
  }
 },
 "nbformat": 4,
 "nbformat_minor": 4
}
